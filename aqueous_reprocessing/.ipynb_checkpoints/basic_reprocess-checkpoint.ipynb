{
 "cells": [
  {
   "cell_type": "code",
   "execution_count": 1,
   "metadata": {},
   "outputs": [],
   "source": [
    "# Checking the decay heat of the reprocess waste in basic reprocess"
   ]
  },
  {
   "cell_type": "code",
   "execution_count": 2,
   "metadata": {},
   "outputs": [
    {
     "name": "stderr",
     "output_type": "stream",
     "text": [
      "/Users/gwenchee/anaconda3/lib/python3.6/importlib/_bootstrap.py:219: QAWarning: pyne.data is not yet QA compliant.\n",
      "  return f(*args, **kwds)\n",
      "/Users/gwenchee/anaconda3/lib/python3.6/importlib/_bootstrap.py:219: QAWarning: pyne.material is not yet QA compliant.\n",
      "  return f(*args, **kwds)\n"
     ]
    }
   ],
   "source": [
    "# 412 Project \n",
    "import sqlite3 as lite\n",
    "import os\n",
    "import sys\n",
    "import numpy as np\n",
    "import pandas as pd\n",
    "from pyne import nucname\n",
    "from pyne.material import Material\n",
    "import collections\n",
    "import matplotlib.pyplot as plt\n",
    "sys.path.insert(0, '../../scripts/')\n",
    "jupyter_directory = os.getcwd()\n",
    "from IPython.display import Image"
   ]
  },
  {
   "cell_type": "code",
   "execution_count": 5,
   "metadata": {},
   "outputs": [],
   "source": [
    "import analysis as an"
   ]
  },
  {
   "cell_type": "code",
   "execution_count": 6,
   "metadata": {},
   "outputs": [],
   "source": [
    "# get sqlite cursor and simulation time parameters\n",
    "filename = 'cyclus.sqlite'\n",
    "conn = lite.connect(filename)\n",
    "cur = conn.cursor()\n",
    "cur = an.get_cursor(filename)\n",
    "init_year, init_month, duration, timestep = an.get_timesteps(cur)"
   ]
  },
  {
   "cell_type": "code",
   "execution_count": 22,
   "metadata": {},
   "outputs": [
    {
     "name": "stdout",
     "output_type": "stream",
     "text": [
      "[0, 6.79256634427252e-05, 6.79256634427252e-05, 6.79256634427252e-05, 6.79256634427252e-05, 6.79256634427252e-05, 6.79256634427252e-05, 6.79256634427252e-05, 6.79256634427252e-05, 6.79256634427252e-05]\n"
     ]
    }
   ],
   "source": [
    "# decay heat produced by isotopes that are added to the sink per time step \n",
    "sink_isotope_mass = cur.execute('select time, sum(quantity)*massfrac, nucid FROM transactions INNER JOIN resources ON transactions.resourceid = resources.resourceid LEFT OUTER JOIN compositions ON resources.qualid = compositions.qualid WHERE commodity LIKE \"%reprocess_waste\" group by time, nucid').fetchall()\n",
    "\n",
    "temp_dict = {}\n",
    "t = 0 \n",
    "decayheat_list = []\n",
    "for time in timestep: \n",
    "    temp_dict={}\n",
    "    decayheat =0\n",
    "    for row in sink_isotope_mass:\n",
    "        if time == row['time']:\n",
    "            if time == t: \n",
    "                temp_dict.update({row['NucId']:row['sum(quantity)*massfrac']})\n",
    "            elif time != t:\n",
    "                temp_dict = {row['NucId']:row['sum(quantity)*massfrac']}\n",
    "        t = time \n",
    "    #print(time)\n",
    "    #print(temp_dict)\n",
    "    a = Material(temp_dict)\n",
    "    b = a.decay(1e1)\n",
    "    decayheat = Material.decay_heat(b)\n",
    "    activity = Material.activity(b)\n",
    "    #print(activity)\n",
    "    #print(decayheat)\n",
    "    decayheatvalue = 0 \n",
    "    for key1 in a:\n",
    "        for key2 in decayheat:\n",
    "            if key1 == key2: \n",
    "                if key1 == 952420001:\n",
    "                    decayheatvalue = decayheatvalue + 0   \n",
    "                else:    \n",
    "                    decayheatvalue = decayheatvalue + a[key1] * decayheat[key2]*a.mass\n",
    "    decayheat_list.append(decayheatvalue)\n",
    "\n",
    "print(decayheat_list)    \n",
    "# decay heat is in MW \n",
    "# 2 sf lower than data. WHY?? \n",
    "# what are the differences between vitrified waste and them in their elemental forms? "
   ]
  },
  {
   "cell_type": "code",
   "execution_count": 30,
   "metadata": {},
   "outputs": [
    {
     "name": "stdout",
     "output_type": "stream",
     "text": [
      "[0, nan, nan, nan, nan, nan, nan, nan, nan, nan]\n"
     ]
    }
   ],
   "source": [
    "# activity produced by isotopes that are added to the sink per time step \n",
    "sink_isotope_mass = cur.execute('select time, sum(quantity)*massfrac, nucid FROM transactions INNER JOIN resources ON transactions.resourceid = resources.resourceid LEFT OUTER JOIN compositions ON resources.qualid = compositions.qualid WHERE commodity LIKE \"%reprocess_waste\" group by time, nucid').fetchall()\n",
    "\n",
    "temp_dict = {}\n",
    "t = 0 \n",
    "activity_list = []\n",
    "for time in timestep: \n",
    "    temp_dict={}\n",
    "    decayheat =0\n",
    "    for row in sink_isotope_mass:\n",
    "        if time == row['time']:\n",
    "            if time == t: \n",
    "                temp_dict.update({row['NucId']:row['sum(quantity)*massfrac']})\n",
    "            elif time != t:\n",
    "                temp_dict = {row['NucId']:row['sum(quantity)*massfrac']}\n",
    "        t = time \n",
    "    #print(time)\n",
    "    #print(temp_dict)\n",
    "    a = Material(temp_dict)\n",
    "    b = a.decay(1e1)\n",
    "    activity = Material.activity(b)\n",
    "    print(activity)\n",
    "    #print(decayheat)\n",
    "    activityvalue = 0 \n",
    "    for key1 in a:\n",
    "        for key2 in activity:\n",
    "            if key1 == key2: \n",
    "                if key1 == 952420001:\n",
    "                    activityvalue = activityvalue + 0   \n",
    "                else:    \n",
    "                    activityvalue = activityvalue + a[key1] * activity[key2]*a.mass\n",
    "    activity_list.append(activityvalue)\n",
    "\n",
    "print(activity_list)    \n"
   ]
  },
  {
   "cell_type": "code",
   "execution_count": null,
   "metadata": {},
   "outputs": [],
   "source": []
  }
 ],
 "metadata": {
  "kernelspec": {
   "display_name": "Python 3",
   "language": "python",
   "name": "python3"
  },
  "language_info": {
   "codemirror_mode": {
    "name": "ipython",
    "version": 3
   },
   "file_extension": ".py",
   "mimetype": "text/x-python",
   "name": "python",
   "nbconvert_exporter": "python",
   "pygments_lexer": "ipython3",
   "version": "3.6.4"
  }
 },
 "nbformat": 4,
 "nbformat_minor": 2
}
